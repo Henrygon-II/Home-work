{
  "nbformat": 4,
  "nbformat_minor": 0,
  "metadata": {
    "colab": {
      "provenance": [],
      "authorship_tag": "ABX9TyMeDGO/6iD3rqhWIT3AodD3"
    },
    "kernelspec": {
      "name": "python3",
      "display_name": "Python 3"
    },
    "language_info": {
      "name": "python"
    }
  },
  "cells": [
    {
      "cell_type": "code",
      "execution_count": null,
      "metadata": {
        "colab": {
          "base_uri": "https://localhost:8080/"
        },
        "id": "5ZO05WTgpnFn",
        "outputId": "d8231404-5cfc-44e5-d638-5a14735fec48"
      },
      "outputs": [
        {
          "output_type": "stream",
          "name": "stdout",
          "text": [
            "Парсинг уравнения реакции:\n",
            "2 H2 (Molar Mass: 1.00794) + O2 (Molar Mass: 15.9994) -> 2 H2O (Molar Mass: 33.00674)\n",
            "Молярные массы реагентов:\n",
            "2 H2: 1.00794\n",
            "O2: 15.9994\n",
            "Молярные массы продуктов:\n",
            "2 H2O: 33.00674\n",
            "Молярная масса H2: 1.00794\n"
          ]
        }
      ],
      "source": [
        "import re\n",
        "import pandas as pd\n",
        "\n",
        "class Chemical:\n",
        "    def __init__(self, formula):\n",
        "        self.formula = formula\n",
        "        self.molar_mass = self.calculate_molar_mass(formula)\n",
        "\n",
        "    def calculate_molar_mass(self, formula):\n",
        "        \"\"\"\n",
        "        Расчет молекулярной массы.\n",
        "        \"\"\"\n",
        "        periodic_table = pd.read_csv('/content/elementdatavalues.csv')\n",
        "        atomic_weights = dict(zip(periodic_table['Symbol'], periodic_table['Atomic_Weight']))\n",
        "        pattern = r'(\\d*)([A-Z][a-z]?)'\n",
        "        mass = 0\n",
        "        for count, element in re.findall(pattern, formula):\n",
        "            count = int(count) if count else 1\n",
        "            mass += atomic_weights.get(element, 0) * count\n",
        "        return mass\n",
        "\n",
        "    def __repr__(self):\n",
        "        return f\"{self.formula} (Molar Mass: {self.molar_mass})\"\n",
        "\n",
        "\n",
        "class Reaction:\n",
        "    def __init__(self, equation):\n",
        "        self.equation = equation\n",
        "        self.reactants = []\n",
        "        self.products = []\n",
        "        self.parse_equation(equation)\n",
        "\n",
        "    def parse_equation(self, equation):\n",
        "        \"\"\"\n",
        "        Парсинг уравнения реакции на реагенты и продукты.\n",
        "        \"\"\"\n",
        "        parts = equation.split('->')\n",
        "        if len(parts) != 2:\n",
        "            raise ValueError(\"Уравнение реакции должно содержать '->' для разделения реагентов и продуктов\")\n",
        "\n",
        "        reactants_str, products_str = parts\n",
        "        self.reactants = [Chemical(compound.strip()) for compound in reactants_str.split('+')]\n",
        "        self.products = [Chemical(compound.strip()) for compound in products_str.split('+')]\n",
        "\n",
        "    def __repr__(self):\n",
        "        reactants_str = ' + '.join(map(str, self.reactants))\n",
        "        products_str = ' + '.join(map(str, self.products))\n",
        "        return f\"{reactants_str} -> {products_str}\"\n",
        "\n",
        "\n",
        "class ChemicalCalculator:\n",
        "    @staticmethod\n",
        "    def balance_equation(reaction):\n",
        "        \"\"\"\n",
        "        Балансировка уравнения реакции.\n",
        "        Здесь будет метод для балансировки химических уравнений.\n",
        "        \"\"\"\n",
        "        pass\n",
        "\n",
        "    @staticmethod\n",
        "    def calculate_molar_mass(formula):\n",
        "        chemical = Chemical(formula)\n",
        "        return chemical.molar_mass\n"
      ]
    }
  ]
}